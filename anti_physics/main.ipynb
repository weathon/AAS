{
 "cells": [
  {
   "cell_type": "code",
   "execution_count": 1,
   "id": "b248379a",
   "metadata": {},
   "outputs": [],
   "source": [
    "import hpsv2"
   ]
  },
  {
   "cell_type": "code",
   "execution_count": null,
   "id": "e4ee3a3e",
   "metadata": {},
   "outputs": [],
   "source": [
    "%pip install hpsv2x\n",
    "%pip install image-reward\n",
    "%pip install hpsv3\n",
    "%pip install clip"
   ]
  },
  {
   "cell_type": "code",
   "execution_count": 2,
   "id": "b3311e9f",
   "metadata": {},
   "outputs": [
    {
     "name": "stderr",
     "output_type": "stream",
     "text": [
      "/home/wg25r/miniconda/envs/neg/lib/python3.10/site-packages/timm/models/layers/__init__.py:48: FutureWarning: Importing from timm.models.layers is deprecated, please import via timm.layers\n",
      "  warnings.warn(f\"Importing from {__name__} is deprecated, please import via timm.layers\", FutureWarning)\n"
     ]
    },
    {
     "data": {
      "application/vnd.jupyter.widget-view+json": {
       "model_id": "a8717a2cb19d40b0b529cf7ee41ea520",
       "version_major": 2,
       "version_minor": 0
      },
      "text/plain": [
       "open_clip_pytorch_model.bin:   0%|          | 0.00/3.94G [00:00<?, ?B/s]"
      ]
     },
     "metadata": {},
     "output_type": "display_data"
    },
    {
     "data": {
      "application/vnd.jupyter.widget-view+json": {
       "model_id": "ca032084345747f98e6681426b0cb6a4",
       "version_major": 2,
       "version_minor": 0
      },
      "text/plain": [
       "HPS_v2.1_compressed.pt:   0%|          | 0.00/1.97G [00:00<?, ?B/s]"
      ]
     },
     "metadata": {},
     "output_type": "display_data"
    },
    {
     "name": "stderr",
     "output_type": "stream",
     "text": [
      "/home/wg25r/miniconda/envs/neg/lib/python3.10/site-packages/hpsv2/img_score.py:92: FutureWarning: `torch.cuda.amp.autocast(args...)` is deprecated. Please use `torch.amp.autocast('cuda', args...)` instead.\n",
      "  with torch.cuda.amp.autocast():\n"
     ]
    },
    {
     "data": {
      "text/plain": [
       "[0.2305]"
      ]
     },
     "execution_count": 2,
     "metadata": {},
     "output_type": "execute_result"
    }
   ],
   "source": [
    "hpsv2.score(\"anti_physics.png\", \"In a world where physics is merely a suggestion, umbrellas catch falling water, and cars drive on the underside of roads, defying all expectations.\", hps_version=\"v2.1\") "
   ]
  },
  {
   "cell_type": "code",
   "execution_count": 1,
   "id": "651511bf",
   "metadata": {},
   "outputs": [
    {
     "name": "stdout",
     "output_type": "stream",
     "text": [
      "Flash Attention is not installed. Falling to SDPA.\n"
     ]
    },
    {
     "name": "stderr",
     "output_type": "stream",
     "text": [
      "`Qwen2VLRotaryEmbedding` can now be fully parameterized by passing the model config through the `config` argument. All other arguments will be removed in v4.46\n"
     ]
    },
    {
     "data": {
      "application/vnd.jupyter.widget-view+json": {
       "model_id": "0f13c6ea7a664665b87365ffa6db885b",
       "version_major": 2,
       "version_minor": 0
      },
      "text/plain": [
       "Loading checkpoint shards:   0%|          | 0/5 [00:00<?, ?it/s]"
      ]
     },
     "metadata": {},
     "output_type": "display_data"
    },
    {
     "name": "stderr",
     "output_type": "stream",
     "text": [
      "Some weights of Qwen2VLRewardModelBT were not initialized from the model checkpoint at Qwen/Qwen2-VL-7B-Instruct and are newly initialized: ['rm_head.0.bias', 'rm_head.0.weight', 'rm_head.3.bias', 'rm_head.3.weight', 'rm_head.5.bias', 'rm_head.5.weight']\n",
      "You should probably TRAIN this model on a down-stream task to be able to use it for predictions and inference.\n"
     ]
    }
   ],
   "source": [
    "from hpsv3 import HPSv3RewardInferencer\n",
    "\n",
    "# Initialize the model\n",
    "inferencer = HPSv3RewardInferencer(device='cuda:1')"
   ]
  },
  {
   "cell_type": "code",
   "execution_count": 5,
   "id": "2093c0b9",
   "metadata": {},
   "outputs": [
    {
     "name": "stdout",
     "output_type": "stream",
     "text": [
      "Image scores: [8.198843002319336]\n"
     ]
    }
   ],
   "source": [
    "\n",
    "# Evaluate images\n",
    "image_paths = [\"anti_physics.png\"]\n",
    "prompts = [\n",
    "    \"an anti-physics world\"\n",
    "]\n",
    "\n",
    "# Get preference scores\n",
    "rewards = inferencer.reward(prompts=prompts, image_paths=image_paths)\n",
    "scores = [reward[0].item() for reward in rewards]  # Extract mu values\n",
    "print(f\"Image scores: {scores}\")"
   ]
  }
 ],
 "metadata": {
  "kernelspec": {
   "display_name": "neg",
   "language": "python",
   "name": "python3"
  },
  "language_info": {
   "codemirror_mode": {
    "name": "ipython",
    "version": 3
   },
   "file_extension": ".py",
   "mimetype": "text/x-python",
   "name": "python",
   "nbconvert_exporter": "python",
   "pygments_lexer": "ipython3",
   "version": "3.10.17"
  }
 },
 "nbformat": 4,
 "nbformat_minor": 5
}
